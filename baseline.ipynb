{
 "cells": [
  {
   "cell_type": "markdown",
   "id": "c41d1719",
   "metadata": {
    "papermill": {
     "duration": 0.00714,
     "end_time": "2023-04-08T14:06:51.500269",
     "exception": false,
     "start_time": "2023-04-08T14:06:51.493129",
     "status": "completed"
    },
    "tags": []
   },
   "source": [
    "# <center> Предсказание победителя в Dota 2\n",
    "<center> <img src=\"https://meduza.io/impro/YnJZAHUW6WHz_JQm1uRPkTql_qAhbfxt3oFJLGH7CJg/fill/980/0/ce/1/aHR0cHM6Ly9tZWR1/emEuaW8vaW1hZ2Uv/YXR0YWNobWVudHMv/aW1hZ2VzLzAwNy8x/NTcvNjk1L29yaWdp/bmFsL0tMVThLbUti/ZG5pSzlibDA0Wmlw/WXcuanBn.webp\" width=\"700\" height=\"700\">"
   ]
  },
  {
   "cell_type": "markdown",
   "id": "1972927e",
   "metadata": {
    "papermill": {
     "duration": 0.005532,
     "end_time": "2023-04-08T14:06:51.511757",
     "exception": false,
     "start_time": "2023-04-08T14:06:51.506225",
     "status": "completed"
    },
    "tags": []
   },
   "source": [
    "[Почитать подбробнее](https://meduza.io/feature/2021/10/19/rossiyskaya-komanda-vyigrala-chempionat-mira-po-dota-2-i-poluchila-18-millionov-dollarov-postoyte-otkuda-takie-dengi-neuzheli-igrat-v-dotu-tak-slozhno)"
   ]
  },
  {
   "cell_type": "markdown",
   "id": "eaa49f71",
   "metadata": {
    "papermill": {
     "duration": 0.005507,
     "end_time": "2023-04-08T14:06:51.523045",
     "exception": false,
     "start_time": "2023-04-08T14:06:51.517538",
     "status": "completed"
    },
    "tags": []
   },
   "source": [
    "#### [Оригинальная статья](https://arxiv.org/pdf/2106.01782.pdf)\n",
    "    \n",
    "### Начало\n",
    "\n",
    "Посмотрим на готовые признаки и сделаем первую посылку. \n",
    "\n",
    "1. [Описание данных](#Описание-данных)\n",
    "2. [Описание признаков](#Описание-признаков)\n",
    "3. [Наша первая модель](#Наша-первая-модель)\n",
    "4. [Посылка](#Посылка)\n",
    "\n",
    "### Первые шаги на пути в датасайенс\n",
    "\n",
    "5. [Кросс-валидация](#Кросс-валидация)\n",
    "6. [Что есть в json файлах?](#Что-есть-в-json-файлах?)\n",
    "7. [Feature engineering](#Feature-engineering)"
   ]
  },
  {
   "cell_type": "markdown",
   "id": "56b42b0d",
   "metadata": {
    "papermill": {
     "duration": 0.005973,
     "end_time": "2023-04-08T14:06:51.534694",
     "exception": false,
     "start_time": "2023-04-08T14:06:51.528721",
     "status": "completed"
    },
    "tags": []
   },
   "source": [
    "### Импорты"
   ]
  },
  {
   "cell_type": "code",
   "execution_count": 1,
   "id": "42614bd2",
   "metadata": {
    "execution": {
     "iopub.execute_input": "2023-04-08T14:06:51.548584Z",
     "iopub.status.busy": "2023-04-08T14:06:51.548031Z",
     "iopub.status.idle": "2023-04-08T14:06:53.460317Z",
     "shell.execute_reply": "2023-04-08T14:06:53.458974Z"
    },
    "papermill": {
     "duration": 1.923026,
     "end_time": "2023-04-08T14:06:53.463490",
     "exception": false,
     "start_time": "2023-04-08T14:06:51.540464",
     "status": "completed"
    },
    "tags": []
   },
   "outputs": [],
   "source": [
    "import os\n",
    "import json\n",
    "import pandas as pd\n",
    "import datetime\n",
    "import warnings\n",
    "import seaborn as sns\n",
    "import matplotlib.pyplot as plt\n",
    "from sklearn.model_selection import train_test_split, ShuffleSplit, cross_val_score\n",
    "from sklearn.ensemble import RandomForestClassifier\n",
    "from sklearn.metrics import roc_auc_score, accuracy_score\n",
    "\n",
    "%matplotlib inline"
   ]
  },
  {
   "cell_type": "code",
   "execution_count": 2,
   "id": "d2d0913c",
   "metadata": {
    "execution": {
     "iopub.execute_input": "2023-04-08T14:06:53.477318Z",
     "iopub.status.busy": "2023-04-08T14:06:53.476907Z",
     "iopub.status.idle": "2023-04-08T14:06:53.483140Z",
     "shell.execute_reply": "2023-04-08T14:06:53.481925Z"
    },
    "papermill": {
     "duration": 0.016583,
     "end_time": "2023-04-08T14:06:53.486045",
     "exception": false,
     "start_time": "2023-04-08T14:06:53.469462",
     "status": "completed"
    },
    "tags": []
   },
   "outputs": [],
   "source": [
    "SEED = 10801\n",
    "sns.set_style(style=\"whitegrid\")\n",
    "plt.rcParams[\"figure.figsize\"] = 12, 8\n",
    "warnings.filterwarnings(\"ignore\")"
   ]
  },
  {
   "cell_type": "markdown",
   "id": "7d23c24f",
   "metadata": {
    "papermill": {
     "duration": 0.005907,
     "end_time": "2023-04-08T14:06:53.497982",
     "exception": false,
     "start_time": "2023-04-08T14:06:53.492075",
     "status": "completed"
    },
    "tags": []
   },
   "source": [
    "## <left>Описание данных\n",
    "\n",
    "Файлы:\n",
    "\n",
    "- `sample_submission.csv`: пример файла-посылки\n",
    "- `train_raw_data.jsonl`, `test_raw_data.jsonl`: \"сырые\" данные \n",
    "- `train_data.csv`, `test_data.csv`: признаки, созданные авторами\n",
    "- `train_targets.csv`: результаты тренировочных игр"
   ]
  },
  {
   "cell_type": "markdown",
   "id": "a31228f2",
   "metadata": {
    "papermill": {
     "duration": 0.005528,
     "end_time": "2023-04-08T14:06:53.510065",
     "exception": false,
     "start_time": "2023-04-08T14:06:53.504537",
     "status": "completed"
    },
    "tags": []
   },
   "source": [
    "## <left>Описание признаков\n",
    "    \n",
    "Набор простых признаков, описывающих игроков и команды в целом"
   ]
  },
  {
   "cell_type": "code",
   "execution_count": 3,
   "id": "c6c934a3",
   "metadata": {
    "execution": {
     "iopub.execute_input": "2023-04-08T14:06:53.523996Z",
     "iopub.status.busy": "2023-04-08T14:06:53.523575Z",
     "iopub.status.idle": "2023-04-08T14:06:55.025469Z",
     "shell.execute_reply": "2023-04-08T14:06:55.024363Z"
    },
    "papermill": {
     "duration": 1.512293,
     "end_time": "2023-04-08T14:06:55.028246",
     "exception": false,
     "start_time": "2023-04-08T14:06:53.515953",
     "status": "completed"
    },
    "tags": []
   },
   "outputs": [],
   "source": [
    "PATH_TO_DATA = \"../input/bi-ml-competition-2023/\"\n",
    "\n",
    "df_train_features = pd.read_csv(os.path.join(PATH_TO_DATA, \n",
    "                                             \"train_data.csv\"), \n",
    "                                    index_col=\"match_id_hash\")\n",
    "df_train_targets = pd.read_csv(os.path.join(PATH_TO_DATA, \n",
    "                                            \"train_targets.csv\"), \n",
    "                                   index_col=\"match_id_hash\")"
   ]
  },
  {
   "cell_type": "markdown",
   "id": "65e4eabb",
   "metadata": {
    "papermill": {
     "duration": 0.006036,
     "end_time": "2023-04-08T14:06:55.040523",
     "exception": false,
     "start_time": "2023-04-08T14:06:55.034487",
     "status": "completed"
    },
    "tags": []
   },
   "source": [
    "## <left>Наша первая модель"
   ]
  },
  {
   "cell_type": "code",
   "execution_count": 4,
   "id": "1a97fc6b",
   "metadata": {
    "execution": {
     "iopub.execute_input": "2023-04-08T14:06:55.055791Z",
     "iopub.status.busy": "2023-04-08T14:06:55.053812Z",
     "iopub.status.idle": "2023-04-08T14:06:55.087263Z",
     "shell.execute_reply": "2023-04-08T14:06:55.085889Z"
    },
    "papermill": {
     "duration": 0.043603,
     "end_time": "2023-04-08T14:06:55.090277",
     "exception": false,
     "start_time": "2023-04-08T14:06:55.046674",
     "status": "completed"
    },
    "tags": []
   },
   "outputs": [],
   "source": [
    "X = df_train_features.values\n",
    "y = df_train_targets[\"radiant_win\"].values.astype(\"int8\")"
   ]
  },
  {
   "cell_type": "code",
   "execution_count": 5,
   "id": "ddad02ff",
   "metadata": {
    "execution": {
     "iopub.execute_input": "2023-04-08T14:06:55.105019Z",
     "iopub.status.busy": "2023-04-08T14:06:55.104629Z",
     "iopub.status.idle": "2023-04-08T14:06:55.199469Z",
     "shell.execute_reply": "2023-04-08T14:06:55.198215Z"
    },
    "papermill": {
     "duration": 0.105998,
     "end_time": "2023-04-08T14:06:55.202312",
     "exception": false,
     "start_time": "2023-04-08T14:06:55.096314",
     "status": "completed"
    },
    "tags": []
   },
   "outputs": [],
   "source": [
    "X_train, X_valid, y_train, y_valid = train_test_split(X, y, \n",
    "                                                      test_size=0.3, \n",
    "                                                      random_state=SEED)"
   ]
  },
  {
   "cell_type": "markdown",
   "id": "17aeca47",
   "metadata": {
    "papermill": {
     "duration": 0.005477,
     "end_time": "2023-04-08T14:06:55.213721",
     "exception": false,
     "start_time": "2023-04-08T14:06:55.208244",
     "status": "completed"
    },
    "tags": []
   },
   "source": [
    "#### Обучим случайный лес"
   ]
  },
  {
   "cell_type": "code",
   "execution_count": 6,
   "id": "d2dea8c5",
   "metadata": {
    "execution": {
     "iopub.execute_input": "2023-04-08T14:06:55.227937Z",
     "iopub.status.busy": "2023-04-08T14:06:55.227458Z",
     "iopub.status.idle": "2023-04-08T14:07:04.714838Z",
     "shell.execute_reply": "2023-04-08T14:07:04.713458Z"
    },
    "papermill": {
     "duration": 9.49945,
     "end_time": "2023-04-08T14:07:04.718989",
     "exception": false,
     "start_time": "2023-04-08T14:06:55.219539",
     "status": "completed"
    },
    "tags": []
   },
   "outputs": [
    {
     "name": "stdout",
     "output_type": "stream",
     "text": [
      "CPU times: user 36.3 s, sys: 97.6 ms, total: 36.4 s\n",
      "Wall time: 9.47 s\n"
     ]
    },
    {
     "data": {
      "text/plain": [
       "RandomForestClassifier(max_depth=7, n_estimators=300, n_jobs=-1,\n",
       "                       random_state=10801)"
      ]
     },
     "execution_count": 6,
     "metadata": {},
     "output_type": "execute_result"
    }
   ],
   "source": [
    "%%time\n",
    "rf_model = RandomForestClassifier(n_estimators=300, max_depth=7, n_jobs=-1, random_state=SEED)\n",
    "rf_model.fit(X_train, y_train)"
   ]
  },
  {
   "cell_type": "code",
   "execution_count": 7,
   "id": "7bee0b7d",
   "metadata": {
    "execution": {
     "iopub.execute_input": "2023-04-08T14:07:04.733090Z",
     "iopub.status.busy": "2023-04-08T14:07:04.732694Z",
     "iopub.status.idle": "2023-04-08T14:07:40.104085Z",
     "shell.execute_reply": "2023-04-08T14:07:40.102885Z"
    },
    "papermill": {
     "duration": 35.38591,
     "end_time": "2023-04-08T14:07:40.111053",
     "exception": false,
     "start_time": "2023-04-08T14:07:04.725143",
     "status": "completed"
    },
    "tags": []
   },
   "outputs": [
    {
     "name": "stdout",
     "output_type": "stream",
     "text": [
      "CPU times: user 2min 6s, sys: 4.29 s, total: 2min 11s\n",
      "Wall time: 35.4 s\n"
     ]
    },
    {
     "data": {
      "text/plain": [
       "<catboost.core.CatBoostClassifier at 0x75ec04860ad0>"
      ]
     },
     "execution_count": 7,
     "metadata": {},
     "output_type": "execute_result"
    }
   ],
   "source": [
    "%%time\n",
    "from catboost import CatBoostClassifier\n",
    "cb_model = CatBoostClassifier(verbose = False)\n",
    "cb_model.fit(X_train, y_train)"
   ]
  },
  {
   "cell_type": "markdown",
   "id": "43ec8be2",
   "metadata": {
    "papermill": {
     "duration": 0.005819,
     "end_time": "2023-04-08T14:07:40.122810",
     "exception": false,
     "start_time": "2023-04-08T14:07:40.116991",
     "status": "completed"
    },
    "tags": []
   },
   "source": [
    "#### Сделаем предсказания и оценим качество на отложенной части данных"
   ]
  },
  {
   "cell_type": "code",
   "execution_count": 8,
   "id": "407ee559",
   "metadata": {
    "execution": {
     "iopub.execute_input": "2023-04-08T14:07:40.136671Z",
     "iopub.status.busy": "2023-04-08T14:07:40.136233Z",
     "iopub.status.idle": "2023-04-08T14:07:41.185027Z",
     "shell.execute_reply": "2023-04-08T14:07:41.184172Z"
    },
    "papermill": {
     "duration": 1.058507,
     "end_time": "2023-04-08T14:07:41.187340",
     "exception": false,
     "start_time": "2023-04-08T14:07:40.128833",
     "status": "completed"
    },
    "tags": []
   },
   "outputs": [
    {
     "data": {
      "text/plain": [
       "(0.7754387258058622, 0.7987920804058042)"
      ]
     },
     "execution_count": 8,
     "metadata": {},
     "output_type": "execute_result"
    }
   ],
   "source": [
    "rf_y_pred = rf_model.predict_proba(X_valid)[:, 1]\n",
    "cb_y_pred = cb_model.predict_proba(X_valid)[:, 1]\n",
    "rf_valid_score = roc_auc_score(y_valid, rf_y_pred)\n",
    "cb_valid_score = roc_auc_score(y_valid, cb_y_pred)\n",
    "\n",
    "rf_valid_score, cb_valid_score"
   ]
  },
  {
   "cell_type": "code",
   "execution_count": 9,
   "id": "c66a470f",
   "metadata": {
    "execution": {
     "iopub.execute_input": "2023-04-08T14:07:41.201883Z",
     "iopub.status.busy": "2023-04-08T14:07:41.201109Z",
     "iopub.status.idle": "2023-04-08T14:07:41.220885Z",
     "shell.execute_reply": "2023-04-08T14:07:41.219707Z"
    },
    "papermill": {
     "duration": 0.029896,
     "end_time": "2023-04-08T14:07:41.223560",
     "exception": false,
     "start_time": "2023-04-08T14:07:41.193664",
     "status": "completed"
    },
    "tags": []
   },
   "outputs": [],
   "source": [
    "try:\n",
    "    import ujson as json\n",
    "except ModuleNotFoundError:\n",
    "    import json\n",
    "    print (\"Подумайте об установке ujson, чтобы работать с JSON объектами быстрее\")\n",
    "    \n",
    "try:\n",
    "    from tqdm.notebook import tqdm\n",
    "except ModuleNotFoundError:\n",
    "    tqdm_notebook = lambda x: x\n",
    "    print (\"Подумайте об установке tqdm, чтобы следить за прогрессом\")\n",
    "\n",
    "    \n",
    "def read_matches(matches_file, total_matches=31698, n_matches_to_read=None):\n",
    "    \"\"\"\n",
    "    Аргуент\n",
    "    -------\n",
    "    matches_file: JSON файл с сырыми данными\n",
    "    \n",
    "    Результат\n",
    "    ---------\n",
    "    Возвращает записи о каждом матче\n",
    "    \"\"\"\n",
    "    \n",
    "    if n_matches_to_read is None:\n",
    "        n_matches_to_read = total_matches\n",
    "        \n",
    "    c = 0\n",
    "    with open(matches_file) as fin:\n",
    "        for line in tqdm(fin, total=total_matches):\n",
    "            if c >= n_matches_to_read:\n",
    "                break\n",
    "            else:\n",
    "                c += 1\n",
    "                yield json.loads(line)"
   ]
  },
  {
   "cell_type": "code",
   "execution_count": 10,
   "id": "2ecd6844",
   "metadata": {
    "execution": {
     "iopub.execute_input": "2023-04-08T14:07:41.237923Z",
     "iopub.status.busy": "2023-04-08T14:07:41.237504Z",
     "iopub.status.idle": "2023-04-08T14:07:41.247461Z",
     "shell.execute_reply": "2023-04-08T14:07:41.246411Z"
    },
    "papermill": {
     "duration": 0.020416,
     "end_time": "2023-04-08T14:07:41.250287",
     "exception": false,
     "start_time": "2023-04-08T14:07:41.229871",
     "status": "completed"
    },
    "tags": []
   },
   "outputs": [],
   "source": [
    "from itertools import islice\n",
    "\n",
    "def add_new_features(df_features, matches_file, start = None, end = None):\n",
    "    \"\"\"\n",
    "    Аргуенты\n",
    "    -------\n",
    "    df_features: таблица с данными\n",
    "    matches_file: JSON файл с сырыми данными\n",
    "    \n",
    "    Результат\n",
    "    ---------\n",
    "    Добавляет новые признаки в таблицу\n",
    "    \"\"\"\n",
    "            \n",
    "    for match in islice(\n",
    "        read_matches(matches_file),\n",
    "        start,\n",
    "        end\n",
    "    ):\n",
    "        match_id_hash = match['match_id_hash']\n",
    "\n",
    "        # Посчитаем количество разрушенных вышек обеими командами\n",
    "        radiant_tower_kills = 0\n",
    "        dire_tower_kills = 0\n",
    "        for objective in match[\"objectives\"]:\n",
    "            if objective[\"type\"] == \"CHAT_MESSAGE_TOWER_KILL\":\n",
    "                if objective[\"team\"] == 2:\n",
    "                    radiant_tower_kills += 1\n",
    "                if objective[\"team\"] == 3:\n",
    "                    dire_tower_kills += 1\n",
    "\n",
    "        df_features.loc[match_id_hash, \"radiant_tower_kills\"] = radiant_tower_kills\n",
    "        df_features.loc[match_id_hash, \"dire_tower_kills\"] = dire_tower_kills\n",
    "        df_features.loc[match_id_hash, \"diff_tower_kills\"] = radiant_tower_kills - dire_tower_kills\n",
    "        \n",
    "        for player, team, index in zip(match['players'], ['r']*5 + ['d']*5, list(range(1, 5 + 1)) + list(range(1, 5 + 1))):\n",
    "            df_features.loc[match_id_hash, f\"{team}{index}_kda\"] = (player['kills'] + player['assists']) / (player['deaths'] + 1)\n",
    "        "
   ]
  },
  {
   "cell_type": "code",
   "execution_count": 11,
   "id": "810de9e3",
   "metadata": {
    "execution": {
     "iopub.execute_input": "2023-04-08T14:07:41.265132Z",
     "iopub.status.busy": "2023-04-08T14:07:41.263977Z",
     "iopub.status.idle": "2023-04-08T14:10:51.854278Z",
     "shell.execute_reply": "2023-04-08T14:10:51.853046Z"
    },
    "papermill": {
     "duration": 190.600248,
     "end_time": "2023-04-08T14:10:51.856843",
     "exception": false,
     "start_time": "2023-04-08T14:07:41.256595",
     "status": "completed"
    },
    "tags": []
   },
   "outputs": [
    {
     "data": {
      "application/vnd.jupyter.widget-view+json": {
       "model_id": "8ddb8f2692244823a0e79a4a61c3232c",
       "version_major": 2,
       "version_minor": 0
      },
      "text/plain": [
       "  0%|          | 0/31698 [00:00<?, ?it/s]"
      ]
     },
     "metadata": {},
     "output_type": "display_data"
    }
   ],
   "source": [
    "df_train_extended = df_train_features.copy()\n",
    "add_new_features(df_train_extended, PATH_TO_DATA + 'train_raw_data.jsonl')"
   ]
  },
  {
   "cell_type": "code",
   "execution_count": 12,
   "id": "43539647",
   "metadata": {
    "execution": {
     "iopub.execute_input": "2023-04-08T14:10:51.872666Z",
     "iopub.status.busy": "2023-04-08T14:10:51.872266Z",
     "iopub.status.idle": "2023-04-08T14:14:30.049868Z",
     "shell.execute_reply": "2023-04-08T14:14:30.048062Z"
    },
    "papermill": {
     "duration": 218.194637,
     "end_time": "2023-04-08T14:14:30.058915",
     "exception": false,
     "start_time": "2023-04-08T14:10:51.864278",
     "status": "completed"
    },
    "tags": []
   },
   "outputs": [
    {
     "name": "stdout",
     "output_type": "stream",
     "text": [
      "0.803980728611751\n"
     ]
    }
   ],
   "source": [
    "cv_scores_extended = cross_val_score(cb_model, df_train_extended.values, y, \n",
    "                                     cv=5, scoring=\"roc_auc\", n_jobs=-1)\n",
    "\n",
    "print(cv_scores_extended.mean())"
   ]
  },
  {
   "cell_type": "code",
   "execution_count": 13,
   "id": "68e71af8",
   "metadata": {
    "execution": {
     "iopub.execute_input": "2023-04-08T14:14:30.074982Z",
     "iopub.status.busy": "2023-04-08T14:14:30.074555Z",
     "iopub.status.idle": "2023-04-08T14:15:10.610209Z",
     "shell.execute_reply": "2023-04-08T14:15:10.608776Z"
    },
    "papermill": {
     "duration": 40.547041,
     "end_time": "2023-04-08T14:15:10.612850",
     "exception": false,
     "start_time": "2023-04-08T14:14:30.065809",
     "status": "completed"
    },
    "tags": []
   },
   "outputs": [
    {
     "data": {
      "application/vnd.jupyter.widget-view+json": {
       "model_id": "c7eca187102947a6bbaf9cb6525bfbb5",
       "version_major": 2,
       "version_minor": 0
      },
      "text/plain": [
       "  0%|          | 0/31698 [00:00<?, ?it/s]"
      ]
     },
     "metadata": {},
     "output_type": "display_data"
    }
   ],
   "source": [
    "df_test_extended = pd.read_csv(os.path.join(PATH_TO_DATA, \"test_data.csv\"), \n",
    "                                   index_col=\"match_id_hash\")\n",
    "\n",
    "add_new_features(df_test_extended, PATH_TO_DATA + \"test_raw_data.jsonl\")\n"
   ]
  },
  {
   "cell_type": "code",
   "execution_count": 14,
   "id": "d5f09a1a",
   "metadata": {
    "execution": {
     "iopub.execute_input": "2023-04-08T14:15:10.629466Z",
     "iopub.status.busy": "2023-04-08T14:15:10.629007Z",
     "iopub.status.idle": "2023-04-08T14:15:52.906344Z",
     "shell.execute_reply": "2023-04-08T14:15:52.905434Z"
    },
    "papermill": {
     "duration": 42.289802,
     "end_time": "2023-04-08T14:15:52.910299",
     "exception": false,
     "start_time": "2023-04-08T14:15:10.620497",
     "status": "completed"
    },
    "tags": []
   },
   "outputs": [
    {
     "data": {
      "text/plain": [
       "<catboost.core.CatBoostClassifier at 0x75ec0597e1d0>"
      ]
     },
     "execution_count": 14,
     "metadata": {},
     "output_type": "execute_result"
    }
   ],
   "source": [
    "from catboost import CatBoostClassifier\n",
    "cb_model = CatBoostClassifier(verbose = False)\n",
    "cb_model.fit(df_train_extended, y)"
   ]
  },
  {
   "cell_type": "code",
   "execution_count": 15,
   "id": "6216db06",
   "metadata": {
    "execution": {
     "iopub.execute_input": "2023-04-08T14:15:52.926002Z",
     "iopub.status.busy": "2023-04-08T14:15:52.924930Z",
     "iopub.status.idle": "2023-04-08T14:15:52.983917Z",
     "shell.execute_reply": "2023-04-08T14:15:52.982326Z"
    },
    "papermill": {
     "duration": 0.069441,
     "end_time": "2023-04-08T14:15:52.986420",
     "exception": false,
     "start_time": "2023-04-08T14:15:52.916979",
     "status": "completed"
    },
    "tags": []
   },
   "outputs": [
    {
     "name": "stdout",
     "output_type": "stream",
     "text": [
      "Файл посылки сохранен, как: submission_2023-04-08_14-15-52.csv\n"
     ]
    }
   ],
   "source": [
    "X_test = df_test_extended.values\n",
    "y_test_pred = cb_model.predict(X_test)\n",
    "\n",
    "df_submission = pd.DataFrame({\"radiant_win\": y_test_pred}, \n",
    "                                 index=df_test_extended.index)\n",
    "\n",
    "submission_filename = \"submission_{}.csv\".format(\n",
    "    datetime.datetime.now().strftime(\"%Y-%m-%d_%H-%M-%S\"))\n",
    "df_submission.to_csv(submission_filename)\n",
    "print(\"Файл посылки сохранен, как: {}\".format(submission_filename))"
   ]
  }
 ],
 "metadata": {
  "kernelspec": {
   "display_name": "Python 3",
   "language": "python",
   "name": "python3"
  },
  "language_info": {
   "codemirror_mode": {
    "name": "ipython",
    "version": 3
   },
   "file_extension": ".py",
   "mimetype": "text/x-python",
   "name": "python",
   "nbconvert_exporter": "python",
   "pygments_lexer": "ipython3",
   "version": "3.7.12"
  },
  "papermill": {
   "default_parameters": {},
   "duration": 555.808982,
   "end_time": "2023-04-08T14:15:55.619954",
   "environment_variables": {},
   "exception": null,
   "input_path": "__notebook__.ipynb",
   "output_path": "__notebook__.ipynb",
   "parameters": {},
   "start_time": "2023-04-08T14:06:39.810972",
   "version": "2.4.0"
  },
  "widgets": {
   "application/vnd.jupyter.widget-state+json": {
    "state": {
     "22bcf05f726d42dfbaf95c4319cfb057": {
      "model_module": "@jupyter-widgets/base",
      "model_module_version": "1.2.0",
      "model_name": "LayoutModel",
      "state": {
       "_model_module": "@jupyter-widgets/base",
       "_model_module_version": "1.2.0",
       "_model_name": "LayoutModel",
       "_view_count": null,
       "_view_module": "@jupyter-widgets/base",
       "_view_module_version": "1.2.0",
       "_view_name": "LayoutView",
       "align_content": null,
       "align_items": null,
       "align_self": null,
       "border": null,
       "bottom": null,
       "display": null,
       "flex": null,
       "flex_flow": null,
       "grid_area": null,
       "grid_auto_columns": null,
       "grid_auto_flow": null,
       "grid_auto_rows": null,
       "grid_column": null,
       "grid_gap": null,
       "grid_row": null,
       "grid_template_areas": null,
       "grid_template_columns": null,
       "grid_template_rows": null,
       "height": null,
       "justify_content": null,
       "justify_items": null,
       "left": null,
       "margin": null,
       "max_height": null,
       "max_width": null,
       "min_height": null,
       "min_width": null,
       "object_fit": null,
       "object_position": null,
       "order": null,
       "overflow": null,
       "overflow_x": null,
       "overflow_y": null,
       "padding": null,
       "right": null,
       "top": null,
       "visibility": null,
       "width": null
      }
     },
     "2813709c8d7449338c6949b65312b5d6": {
      "model_module": "@jupyter-widgets/base",
      "model_module_version": "1.2.0",
      "model_name": "LayoutModel",
      "state": {
       "_model_module": "@jupyter-widgets/base",
       "_model_module_version": "1.2.0",
       "_model_name": "LayoutModel",
       "_view_count": null,
       "_view_module": "@jupyter-widgets/base",
       "_view_module_version": "1.2.0",
       "_view_name": "LayoutView",
       "align_content": null,
       "align_items": null,
       "align_self": null,
       "border": null,
       "bottom": null,
       "display": null,
       "flex": null,
       "flex_flow": null,
       "grid_area": null,
       "grid_auto_columns": null,
       "grid_auto_flow": null,
       "grid_auto_rows": null,
       "grid_column": null,
       "grid_gap": null,
       "grid_row": null,
       "grid_template_areas": null,
       "grid_template_columns": null,
       "grid_template_rows": null,
       "height": null,
       "justify_content": null,
       "justify_items": null,
       "left": null,
       "margin": null,
       "max_height": null,
       "max_width": null,
       "min_height": null,
       "min_width": null,
       "object_fit": null,
       "object_position": null,
       "order": null,
       "overflow": null,
       "overflow_x": null,
       "overflow_y": null,
       "padding": null,
       "right": null,
       "top": null,
       "visibility": null,
       "width": null
      }
     },
     "2ccfa8409cd745c880441477a84eb45a": {
      "model_module": "@jupyter-widgets/controls",
      "model_module_version": "1.5.0",
      "model_name": "ProgressStyleModel",
      "state": {
       "_model_module": "@jupyter-widgets/controls",
       "_model_module_version": "1.5.0",
       "_model_name": "ProgressStyleModel",
       "_view_count": null,
       "_view_module": "@jupyter-widgets/base",
       "_view_module_version": "1.2.0",
       "_view_name": "StyleView",
       "bar_color": null,
       "description_width": ""
      }
     },
     "2cf892d404fb4e75971d8d5c69c78d97": {
      "model_module": "@jupyter-widgets/base",
      "model_module_version": "1.2.0",
      "model_name": "LayoutModel",
      "state": {
       "_model_module": "@jupyter-widgets/base",
       "_model_module_version": "1.2.0",
       "_model_name": "LayoutModel",
       "_view_count": null,
       "_view_module": "@jupyter-widgets/base",
       "_view_module_version": "1.2.0",
       "_view_name": "LayoutView",
       "align_content": null,
       "align_items": null,
       "align_self": null,
       "border": null,
       "bottom": null,
       "display": null,
       "flex": null,
       "flex_flow": null,
       "grid_area": null,
       "grid_auto_columns": null,
       "grid_auto_flow": null,
       "grid_auto_rows": null,
       "grid_column": null,
       "grid_gap": null,
       "grid_row": null,
       "grid_template_areas": null,
       "grid_template_columns": null,
       "grid_template_rows": null,
       "height": null,
       "justify_content": null,
       "justify_items": null,
       "left": null,
       "margin": null,
       "max_height": null,
       "max_width": null,
       "min_height": null,
       "min_width": null,
       "object_fit": null,
       "object_position": null,
       "order": null,
       "overflow": null,
       "overflow_x": null,
       "overflow_y": null,
       "padding": null,
       "right": null,
       "top": null,
       "visibility": null,
       "width": null
      }
     },
     "30154cf1886f4700af94ae8b43abda89": {
      "model_module": "@jupyter-widgets/controls",
      "model_module_version": "1.5.0",
      "model_name": "HTMLModel",
      "state": {
       "_dom_classes": [],
       "_model_module": "@jupyter-widgets/controls",
       "_model_module_version": "1.5.0",
       "_model_name": "HTMLModel",
       "_view_count": null,
       "_view_module": "@jupyter-widgets/controls",
       "_view_module_version": "1.5.0",
       "_view_name": "HTMLView",
       "description": "",
       "description_tooltip": null,
       "layout": "IPY_MODEL_7f482ad2e7264f6d9e5c01d8d51e69d9",
       "placeholder": "​",
       "style": "IPY_MODEL_56d82332abab4bd2b48273398f226c6b",
       "value": " 31698/31698 [03:10&lt;00:00, 171.01it/s]"
      }
     },
     "39139db9a0b0420cb8b7dd6b653acae8": {
      "model_module": "@jupyter-widgets/base",
      "model_module_version": "1.2.0",
      "model_name": "LayoutModel",
      "state": {
       "_model_module": "@jupyter-widgets/base",
       "_model_module_version": "1.2.0",
       "_model_name": "LayoutModel",
       "_view_count": null,
       "_view_module": "@jupyter-widgets/base",
       "_view_module_version": "1.2.0",
       "_view_name": "LayoutView",
       "align_content": null,
       "align_items": null,
       "align_self": null,
       "border": null,
       "bottom": null,
       "display": null,
       "flex": null,
       "flex_flow": null,
       "grid_area": null,
       "grid_auto_columns": null,
       "grid_auto_flow": null,
       "grid_auto_rows": null,
       "grid_column": null,
       "grid_gap": null,
       "grid_row": null,
       "grid_template_areas": null,
       "grid_template_columns": null,
       "grid_template_rows": null,
       "height": null,
       "justify_content": null,
       "justify_items": null,
       "left": null,
       "margin": null,
       "max_height": null,
       "max_width": null,
       "min_height": null,
       "min_width": null,
       "object_fit": null,
       "object_position": null,
       "order": null,
       "overflow": null,
       "overflow_x": null,
       "overflow_y": null,
       "padding": null,
       "right": null,
       "top": null,
       "visibility": null,
       "width": null
      }
     },
     "48a51dfe460b433eb378d2614b04328b": {
      "model_module": "@jupyter-widgets/controls",
      "model_module_version": "1.5.0",
      "model_name": "HTMLModel",
      "state": {
       "_dom_classes": [],
       "_model_module": "@jupyter-widgets/controls",
       "_model_module_version": "1.5.0",
       "_model_name": "HTMLModel",
       "_view_count": null,
       "_view_module": "@jupyter-widgets/controls",
       "_view_module_version": "1.5.0",
       "_view_name": "HTMLView",
       "description": "",
       "description_tooltip": null,
       "layout": "IPY_MODEL_2cf892d404fb4e75971d8d5c69c78d97",
       "placeholder": "​",
       "style": "IPY_MODEL_d2554fd4ba0345c0a9d65e1fdac08829",
       "value": " 7977/31698 [00:40&lt;02:07, 185.55it/s]"
      }
     },
     "4904156910dc4827ac77261fcee39033": {
      "model_module": "@jupyter-widgets/controls",
      "model_module_version": "1.5.0",
      "model_name": "FloatProgressModel",
      "state": {
       "_dom_classes": [],
       "_model_module": "@jupyter-widgets/controls",
       "_model_module_version": "1.5.0",
       "_model_name": "FloatProgressModel",
       "_view_count": null,
       "_view_module": "@jupyter-widgets/controls",
       "_view_module_version": "1.5.0",
       "_view_name": "ProgressView",
       "bar_style": "danger",
       "description": "",
       "description_tooltip": null,
       "layout": "IPY_MODEL_39139db9a0b0420cb8b7dd6b653acae8",
       "max": 31698.0,
       "min": 0.0,
       "orientation": "horizontal",
       "style": "IPY_MODEL_2ccfa8409cd745c880441477a84eb45a",
       "value": 7977.0
      }
     },
     "56d82332abab4bd2b48273398f226c6b": {
      "model_module": "@jupyter-widgets/controls",
      "model_module_version": "1.5.0",
      "model_name": "DescriptionStyleModel",
      "state": {
       "_model_module": "@jupyter-widgets/controls",
       "_model_module_version": "1.5.0",
       "_model_name": "DescriptionStyleModel",
       "_view_count": null,
       "_view_module": "@jupyter-widgets/base",
       "_view_module_version": "1.2.0",
       "_view_name": "StyleView",
       "description_width": ""
      }
     },
     "659944c971164bb1a145427d90280dbf": {
      "model_module": "@jupyter-widgets/base",
      "model_module_version": "1.2.0",
      "model_name": "LayoutModel",
      "state": {
       "_model_module": "@jupyter-widgets/base",
       "_model_module_version": "1.2.0",
       "_model_name": "LayoutModel",
       "_view_count": null,
       "_view_module": "@jupyter-widgets/base",
       "_view_module_version": "1.2.0",
       "_view_name": "LayoutView",
       "align_content": null,
       "align_items": null,
       "align_self": null,
       "border": null,
       "bottom": null,
       "display": null,
       "flex": null,
       "flex_flow": null,
       "grid_area": null,
       "grid_auto_columns": null,
       "grid_auto_flow": null,
       "grid_auto_rows": null,
       "grid_column": null,
       "grid_gap": null,
       "grid_row": null,
       "grid_template_areas": null,
       "grid_template_columns": null,
       "grid_template_rows": null,
       "height": null,
       "justify_content": null,
       "justify_items": null,
       "left": null,
       "margin": null,
       "max_height": null,
       "max_width": null,
       "min_height": null,
       "min_width": null,
       "object_fit": null,
       "object_position": null,
       "order": null,
       "overflow": null,
       "overflow_x": null,
       "overflow_y": null,
       "padding": null,
       "right": null,
       "top": null,
       "visibility": null,
       "width": null
      }
     },
     "77af8330d6fb4cf491f2f0663867c079": {
      "model_module": "@jupyter-widgets/base",
      "model_module_version": "1.2.0",
      "model_name": "LayoutModel",
      "state": {
       "_model_module": "@jupyter-widgets/base",
       "_model_module_version": "1.2.0",
       "_model_name": "LayoutModel",
       "_view_count": null,
       "_view_module": "@jupyter-widgets/base",
       "_view_module_version": "1.2.0",
       "_view_name": "LayoutView",
       "align_content": null,
       "align_items": null,
       "align_self": null,
       "border": null,
       "bottom": null,
       "display": null,
       "flex": null,
       "flex_flow": null,
       "grid_area": null,
       "grid_auto_columns": null,
       "grid_auto_flow": null,
       "grid_auto_rows": null,
       "grid_column": null,
       "grid_gap": null,
       "grid_row": null,
       "grid_template_areas": null,
       "grid_template_columns": null,
       "grid_template_rows": null,
       "height": null,
       "justify_content": null,
       "justify_items": null,
       "left": null,
       "margin": null,
       "max_height": null,
       "max_width": null,
       "min_height": null,
       "min_width": null,
       "object_fit": null,
       "object_position": null,
       "order": null,
       "overflow": null,
       "overflow_x": null,
       "overflow_y": null,
       "padding": null,
       "right": null,
       "top": null,
       "visibility": null,
       "width": null
      }
     },
     "7f482ad2e7264f6d9e5c01d8d51e69d9": {
      "model_module": "@jupyter-widgets/base",
      "model_module_version": "1.2.0",
      "model_name": "LayoutModel",
      "state": {
       "_model_module": "@jupyter-widgets/base",
       "_model_module_version": "1.2.0",
       "_model_name": "LayoutModel",
       "_view_count": null,
       "_view_module": "@jupyter-widgets/base",
       "_view_module_version": "1.2.0",
       "_view_name": "LayoutView",
       "align_content": null,
       "align_items": null,
       "align_self": null,
       "border": null,
       "bottom": null,
       "display": null,
       "flex": null,
       "flex_flow": null,
       "grid_area": null,
       "grid_auto_columns": null,
       "grid_auto_flow": null,
       "grid_auto_rows": null,
       "grid_column": null,
       "grid_gap": null,
       "grid_row": null,
       "grid_template_areas": null,
       "grid_template_columns": null,
       "grid_template_rows": null,
       "height": null,
       "justify_content": null,
       "justify_items": null,
       "left": null,
       "margin": null,
       "max_height": null,
       "max_width": null,
       "min_height": null,
       "min_width": null,
       "object_fit": null,
       "object_position": null,
       "order": null,
       "overflow": null,
       "overflow_x": null,
       "overflow_y": null,
       "padding": null,
       "right": null,
       "top": null,
       "visibility": null,
       "width": null
      }
     },
     "8ddb8f2692244823a0e79a4a61c3232c": {
      "model_module": "@jupyter-widgets/controls",
      "model_module_version": "1.5.0",
      "model_name": "HBoxModel",
      "state": {
       "_dom_classes": [],
       "_model_module": "@jupyter-widgets/controls",
       "_model_module_version": "1.5.0",
       "_model_name": "HBoxModel",
       "_view_count": null,
       "_view_module": "@jupyter-widgets/controls",
       "_view_module_version": "1.5.0",
       "_view_name": "HBoxView",
       "box_style": "",
       "children": [
        "IPY_MODEL_defac770067b4ea6b51bf821985a7001",
        "IPY_MODEL_f1c72307e3264d22bc94167d2c0c0765",
        "IPY_MODEL_30154cf1886f4700af94ae8b43abda89"
       ],
       "layout": "IPY_MODEL_77af8330d6fb4cf491f2f0663867c079"
      }
     },
     "a65286f904ec4e2bba6ffd1c6e860ee5": {
      "model_module": "@jupyter-widgets/base",
      "model_module_version": "1.2.0",
      "model_name": "LayoutModel",
      "state": {
       "_model_module": "@jupyter-widgets/base",
       "_model_module_version": "1.2.0",
       "_model_name": "LayoutModel",
       "_view_count": null,
       "_view_module": "@jupyter-widgets/base",
       "_view_module_version": "1.2.0",
       "_view_name": "LayoutView",
       "align_content": null,
       "align_items": null,
       "align_self": null,
       "border": null,
       "bottom": null,
       "display": null,
       "flex": null,
       "flex_flow": null,
       "grid_area": null,
       "grid_auto_columns": null,
       "grid_auto_flow": null,
       "grid_auto_rows": null,
       "grid_column": null,
       "grid_gap": null,
       "grid_row": null,
       "grid_template_areas": null,
       "grid_template_columns": null,
       "grid_template_rows": null,
       "height": null,
       "justify_content": null,
       "justify_items": null,
       "left": null,
       "margin": null,
       "max_height": null,
       "max_width": null,
       "min_height": null,
       "min_width": null,
       "object_fit": null,
       "object_position": null,
       "order": null,
       "overflow": null,
       "overflow_x": null,
       "overflow_y": null,
       "padding": null,
       "right": null,
       "top": null,
       "visibility": null,
       "width": null
      }
     },
     "afcb74d003ff4482a4704bd1bfb5bf7b": {
      "model_module": "@jupyter-widgets/controls",
      "model_module_version": "1.5.0",
      "model_name": "HTMLModel",
      "state": {
       "_dom_classes": [],
       "_model_module": "@jupyter-widgets/controls",
       "_model_module_version": "1.5.0",
       "_model_name": "HTMLModel",
       "_view_count": null,
       "_view_module": "@jupyter-widgets/controls",
       "_view_module_version": "1.5.0",
       "_view_name": "HTMLView",
       "description": "",
       "description_tooltip": null,
       "layout": "IPY_MODEL_659944c971164bb1a145427d90280dbf",
       "placeholder": "​",
       "style": "IPY_MODEL_db17d559785043e3ae8cca1e9d4cc467",
       "value": " 25%"
      }
     },
     "c7eca187102947a6bbaf9cb6525bfbb5": {
      "model_module": "@jupyter-widgets/controls",
      "model_module_version": "1.5.0",
      "model_name": "HBoxModel",
      "state": {
       "_dom_classes": [],
       "_model_module": "@jupyter-widgets/controls",
       "_model_module_version": "1.5.0",
       "_model_name": "HBoxModel",
       "_view_count": null,
       "_view_module": "@jupyter-widgets/controls",
       "_view_module_version": "1.5.0",
       "_view_name": "HBoxView",
       "box_style": "",
       "children": [
        "IPY_MODEL_afcb74d003ff4482a4704bd1bfb5bf7b",
        "IPY_MODEL_4904156910dc4827ac77261fcee39033",
        "IPY_MODEL_48a51dfe460b433eb378d2614b04328b"
       ],
       "layout": "IPY_MODEL_a65286f904ec4e2bba6ffd1c6e860ee5"
      }
     },
     "cbfaf62c8be049529e4b3c9483f74957": {
      "model_module": "@jupyter-widgets/controls",
      "model_module_version": "1.5.0",
      "model_name": "ProgressStyleModel",
      "state": {
       "_model_module": "@jupyter-widgets/controls",
       "_model_module_version": "1.5.0",
       "_model_name": "ProgressStyleModel",
       "_view_count": null,
       "_view_module": "@jupyter-widgets/base",
       "_view_module_version": "1.2.0",
       "_view_name": "StyleView",
       "bar_color": null,
       "description_width": ""
      }
     },
     "d2554fd4ba0345c0a9d65e1fdac08829": {
      "model_module": "@jupyter-widgets/controls",
      "model_module_version": "1.5.0",
      "model_name": "DescriptionStyleModel",
      "state": {
       "_model_module": "@jupyter-widgets/controls",
       "_model_module_version": "1.5.0",
       "_model_name": "DescriptionStyleModel",
       "_view_count": null,
       "_view_module": "@jupyter-widgets/base",
       "_view_module_version": "1.2.0",
       "_view_name": "StyleView",
       "description_width": ""
      }
     },
     "db17d559785043e3ae8cca1e9d4cc467": {
      "model_module": "@jupyter-widgets/controls",
      "model_module_version": "1.5.0",
      "model_name": "DescriptionStyleModel",
      "state": {
       "_model_module": "@jupyter-widgets/controls",
       "_model_module_version": "1.5.0",
       "_model_name": "DescriptionStyleModel",
       "_view_count": null,
       "_view_module": "@jupyter-widgets/base",
       "_view_module_version": "1.2.0",
       "_view_name": "StyleView",
       "description_width": ""
      }
     },
     "defac770067b4ea6b51bf821985a7001": {
      "model_module": "@jupyter-widgets/controls",
      "model_module_version": "1.5.0",
      "model_name": "HTMLModel",
      "state": {
       "_dom_classes": [],
       "_model_module": "@jupyter-widgets/controls",
       "_model_module_version": "1.5.0",
       "_model_name": "HTMLModel",
       "_view_count": null,
       "_view_module": "@jupyter-widgets/controls",
       "_view_module_version": "1.5.0",
       "_view_name": "HTMLView",
       "description": "",
       "description_tooltip": null,
       "layout": "IPY_MODEL_22bcf05f726d42dfbaf95c4319cfb057",
       "placeholder": "​",
       "style": "IPY_MODEL_fd8c54439f9d4d0eb580544d8f77b068",
       "value": "100%"
      }
     },
     "f1c72307e3264d22bc94167d2c0c0765": {
      "model_module": "@jupyter-widgets/controls",
      "model_module_version": "1.5.0",
      "model_name": "FloatProgressModel",
      "state": {
       "_dom_classes": [],
       "_model_module": "@jupyter-widgets/controls",
       "_model_module_version": "1.5.0",
       "_model_name": "FloatProgressModel",
       "_view_count": null,
       "_view_module": "@jupyter-widgets/controls",
       "_view_module_version": "1.5.0",
       "_view_name": "ProgressView",
       "bar_style": "success",
       "description": "",
       "description_tooltip": null,
       "layout": "IPY_MODEL_2813709c8d7449338c6949b65312b5d6",
       "max": 31698.0,
       "min": 0.0,
       "orientation": "horizontal",
       "style": "IPY_MODEL_cbfaf62c8be049529e4b3c9483f74957",
       "value": 31698.0
      }
     },
     "fd8c54439f9d4d0eb580544d8f77b068": {
      "model_module": "@jupyter-widgets/controls",
      "model_module_version": "1.5.0",
      "model_name": "DescriptionStyleModel",
      "state": {
       "_model_module": "@jupyter-widgets/controls",
       "_model_module_version": "1.5.0",
       "_model_name": "DescriptionStyleModel",
       "_view_count": null,
       "_view_module": "@jupyter-widgets/base",
       "_view_module_version": "1.2.0",
       "_view_name": "StyleView",
       "description_width": ""
      }
     }
    },
    "version_major": 2,
    "version_minor": 0
   }
  }
 },
 "nbformat": 4,
 "nbformat_minor": 5
}
